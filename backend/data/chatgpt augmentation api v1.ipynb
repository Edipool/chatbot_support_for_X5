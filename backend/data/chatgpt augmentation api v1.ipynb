{
 "cells": [
  {
   "cell_type": "markdown",
   "id": "c59bdfe1",
   "metadata": {},
   "source": [
    "# Импорт"
   ]
  },
  {
   "cell_type": "code",
   "execution_count": 3,
   "id": "5f426da6",
   "metadata": {},
   "outputs": [
    {
     "ename": "ModuleNotFoundError",
     "evalue": "No module named 'openai'",
     "output_type": "error",
     "traceback": [
      "\u001b[1;31m---------------------------------------------------------------------------\u001b[0m",
      "\u001b[1;31mModuleNotFoundError\u001b[0m                       Traceback (most recent call last)",
      "Cell \u001b[1;32mIn[3], line 2\u001b[0m\n\u001b[0;32m      1\u001b[0m \u001b[38;5;28;01mimport\u001b[39;00m \u001b[38;5;21;01mpandas\u001b[39;00m \u001b[38;5;28;01mas\u001b[39;00m \u001b[38;5;21;01mpd\u001b[39;00m\n\u001b[1;32m----> 2\u001b[0m \u001b[38;5;28;01mfrom\u001b[39;00m \u001b[38;5;21;01mopenai\u001b[39;00m \u001b[38;5;28;01mimport\u001b[39;00m OpenAI\n",
      "\u001b[1;31mModuleNotFoundError\u001b[0m: No module named 'openai'"
     ]
    }
   ],
   "source": [
    "import pandas as pd\n",
    "from openai import OpenAI"
   ]
  },
  {
   "cell_type": "markdown",
   "id": "26e0ddb7",
   "metadata": {},
   "source": [
    "# Датасет"
   ]
  },
  {
   "cell_type": "code",
   "execution_count": 4,
   "id": "ad901cc3",
   "metadata": {},
   "outputs": [],
   "source": [
    "file_path = 'LK_modified.xlsx'\n",
    "sheet_name = 'Вопрос ответ'\n",
    "\n",
    "def save_to_excel(df, file_path, sheet_name):\n",
    "    with pd.ExcelWriter(file_path, engine='openpyxl', mode='a', if_sheet_exists='replace') as writer:\n",
    "        df[['question', 'content', 'category']].to_excel(writer, sheet_name=sheet_name, index=False)"
   ]
  },
  {
   "cell_type": "code",
   "execution_count": 5,
   "id": "41242266",
   "metadata": {},
   "outputs": [],
   "source": [
    "df = pd.read_excel(file_path, sheet_name = 'Вопрос ответ', index_col='Unnamed: 0')"
   ]
  },
  {
   "cell_type": "code",
   "execution_count": 6,
   "id": "4a9c1f88",
   "metadata": {},
   "outputs": [
    {
     "data": {
      "text/html": [
       "<div>\n",
       "<style scoped>\n",
       "    .dataframe tbody tr th:only-of-type {\n",
       "        vertical-align: middle;\n",
       "    }\n",
       "\n",
       "    .dataframe tbody tr th {\n",
       "        vertical-align: top;\n",
       "    }\n",
       "\n",
       "    .dataframe thead th {\n",
       "        text-align: right;\n",
       "    }\n",
       "</style>\n",
       "<table border=\"1\" class=\"dataframe\">\n",
       "  <thead>\n",
       "    <tr style=\"text-align: right;\">\n",
       "      <th></th>\n",
       "      <th>question</th>\n",
       "      <th>content</th>\n",
       "      <th>category</th>\n",
       "    </tr>\n",
       "  </thead>\n",
       "  <tbody>\n",
       "    <tr>\n",
       "      <th>0</th>\n",
       "      <td>Я сменил автомобить, на учет еще не поставил, ...</td>\n",
       "      <td>Для внесения данных по личному автомобилю обра...</td>\n",
       "      <td>автомобиль</td>\n",
       "    </tr>\n",
       "    <tr>\n",
       "      <th>1</th>\n",
       "      <td>Не отображается автомобиль в личном кабинете.</td>\n",
       "      <td>Для внесения данных по личному автомобилю обра...</td>\n",
       "      <td>автомобиль</td>\n",
       "    </tr>\n",
       "    <tr>\n",
       "      <th>2</th>\n",
       "      <td>добавить автомобиль</td>\n",
       "      <td>Для внесения данных по личному автомобилю обра...</td>\n",
       "      <td>автомобиль</td>\n",
       "    </tr>\n",
       "    <tr>\n",
       "      <th>3</th>\n",
       "      <td>хочу внести данные об автомобиле</td>\n",
       "      <td>Для внесения данных по личному автомобилю обра...</td>\n",
       "      <td>автомобиль</td>\n",
       "    </tr>\n",
       "    <tr>\n",
       "      <th>4</th>\n",
       "      <td>Как внести данные об автомобиле?</td>\n",
       "      <td>Для внесения данных по личному автомобилю обра...</td>\n",
       "      <td>автомобиль</td>\n",
       "    </tr>\n",
       "    <tr>\n",
       "      <th>...</th>\n",
       "      <td>...</td>\n",
       "      <td>...</td>\n",
       "      <td>...</td>\n",
       "    </tr>\n",
       "    <tr>\n",
       "      <th>1702</th>\n",
       "      <td>Ошибка 500</td>\n",
       "      <td>Данная ошибка возможна при переходе на портал\\...</td>\n",
       "      <td>обучение</td>\n",
       "    </tr>\n",
       "    <tr>\n",
       "      <th>1703</th>\n",
       "      <td>при входе на портал обучения выходит ошибка 505</td>\n",
       "      <td>Данная ошибка возможна при переходе на портал\\...</td>\n",
       "      <td>обучение</td>\n",
       "    </tr>\n",
       "    <tr>\n",
       "      <th>1704</th>\n",
       "      <td>привязать другой номер к карте лояльности</td>\n",
       "      <td>Для изменения привязанного номера к карте лоял...</td>\n",
       "      <td>ЛК</td>\n",
       "    </tr>\n",
       "    <tr>\n",
       "      <th>1705</th>\n",
       "      <td>Не открывается итоговый тест на директора мага...</td>\n",
       "      <td>Создайте, пожалуйста,  обращение в ИТ поддержк...</td>\n",
       "      <td>поддержка</td>\n",
       "    </tr>\n",
       "    <tr>\n",
       "      <th>1706</th>\n",
       "      <td>номер поддержки подскажите пожалуйста</td>\n",
       "      <td>Для оформления обращения в техническую поддерж...</td>\n",
       "      <td>поддержка</td>\n",
       "    </tr>\n",
       "  </tbody>\n",
       "</table>\n",
       "<p>1676 rows × 3 columns</p>\n",
       "</div>"
      ],
      "text/plain": [
       "                                               question  \\\n",
       "0     Я сменил автомобить, на учет еще не поставил, ...   \n",
       "1         Не отображается автомобиль в личном кабинете.   \n",
       "2                                   добавить автомобиль   \n",
       "3                      хочу внести данные об автомобиле   \n",
       "4                      Как внести данные об автомобиле?   \n",
       "...                                                 ...   \n",
       "1702                                         Ошибка 500   \n",
       "1703    при входе на портал обучения выходит ошибка 505   \n",
       "1704          привязать другой номер к карте лояльности   \n",
       "1705  Не открывается итоговый тест на директора мага...   \n",
       "1706              номер поддержки подскажите пожалуйста   \n",
       "\n",
       "                                                content    category  \n",
       "0     Для внесения данных по личному автомобилю обра...  автомобиль  \n",
       "1     Для внесения данных по личному автомобилю обра...  автомобиль  \n",
       "2     Для внесения данных по личному автомобилю обра...  автомобиль  \n",
       "3     Для внесения данных по личному автомобилю обра...  автомобиль  \n",
       "4     Для внесения данных по личному автомобилю обра...  автомобиль  \n",
       "...                                                 ...         ...  \n",
       "1702  Данная ошибка возможна при переходе на портал\\...    обучение  \n",
       "1703  Данная ошибка возможна при переходе на портал\\...    обучение  \n",
       "1704  Для изменения привязанного номера к карте лоял...          ЛК  \n",
       "1705  Создайте, пожалуйста,  обращение в ИТ поддержк...   поддержка  \n",
       "1706  Для оформления обращения в техническую поддерж...   поддержка  \n",
       "\n",
       "[1676 rows x 3 columns]"
      ]
     },
     "execution_count": 6,
     "metadata": {},
     "output_type": "execute_result"
    }
   ],
   "source": [
    "df"
   ]
  },
  {
   "cell_type": "code",
   "execution_count": 7,
   "id": "1884c788",
   "metadata": {},
   "outputs": [
    {
     "data": {
      "text/plain": [
       "['SED',\n",
       " 'БиР',\n",
       " 'ЛК',\n",
       " 'МЧД',\n",
       " 'Отпуск',\n",
       " 'СБ',\n",
       " 'ЭЦП',\n",
       " 'автомобиль',\n",
       " 'больничный',\n",
       " 'выручай-карта',\n",
       " 'график работы',\n",
       " 'дмс',\n",
       " 'доверенность',\n",
       " 'документооборот',\n",
       " 'зарплата',\n",
       " 'заявки',\n",
       " 'командировка',\n",
       " 'материальная помощь',\n",
       " 'моя карьера',\n",
       " 'налоговый вычет',\n",
       " 'обучение',\n",
       " 'оператор',\n",
       " 'отгул',\n",
       " 'отпуск',\n",
       " 'перевод',\n",
       " 'поддержка',\n",
       " 'прием на работу',\n",
       " 'справка',\n",
       " 'табель',\n",
       " 'увольнение',\n",
       " 'удаленная работа',\n",
       " 'уход за больным']"
      ]
     },
     "execution_count": 7,
     "metadata": {},
     "output_type": "execute_result"
    }
   ],
   "source": [
    "categories = sorted(df['category'].unique())\n",
    "categories # тут отпуск и Отпуск разные категории"
   ]
  },
  {
   "cell_type": "code",
   "execution_count": 8,
   "id": "dcf12965",
   "metadata": {},
   "outputs": [],
   "source": [
    "#приведем к нижнему регистру и отбросим дубликаты\n",
    "\n",
    "for i in df.columns:\n",
    "    df[i] = df [i].str.lower()\n",
    "df.drop_duplicates(inplace=True)"
   ]
  },
  {
   "cell_type": "code",
   "execution_count": 9,
   "id": "eaa488cb",
   "metadata": {
    "scrolled": true
   },
   "outputs": [
    {
     "name": "stdout",
     "output_type": "stream",
     "text": [
      "               category  question_count\n",
      "0                   sed               1\n",
      "1                    сб               1\n",
      "2         выручай-карта               1\n",
      "3                   мчд               1\n",
      "4               перевод               2\n",
      "5                   дмс               3\n",
      "6          командировка               5\n",
      "7              оператор               5\n",
      "8              обучение               6\n",
      "9          доверенность               7\n",
      "10           автомобиль               8\n",
      "11  материальная помощь               8\n",
      "12              справка               9\n",
      "13      уход за больным               9\n",
      "14      налоговый вычет              12\n",
      "15           больничный              17\n",
      "16      документооборот              22\n",
      "17        график работы              28\n",
      "18                  эцп              33\n",
      "19             зарплата              45\n",
      "20               заявки              47\n",
      "21                отгул              48\n",
      "22      прием на работу              48\n",
      "23                  бир              50\n",
      "24          моя карьера              54\n",
      "25           увольнение              60\n",
      "26     удаленная работа              98\n",
      "27               отпуск             120\n",
      "28               табель             166\n",
      "29            поддержка             273\n",
      "30                   лк             453\n"
     ]
    }
   ],
   "source": [
    "#найдем категории, в которых всего 1 запрос\n",
    "\n",
    "grouped_df = df.groupby('category')['question'].count().sort_values()\n",
    "counts = grouped_df.reset_index(name='question_count')\n",
    "print(counts)\n",
    "\n",
    "df = pd.merge(df, counts, on='category')"
   ]
  },
  {
   "cell_type": "markdown",
   "id": "b9fd1338",
   "metadata": {},
   "source": [
    "# Подсчет количества сочетаний"
   ]
  },
  {
   "cell_type": "code",
   "execution_count": 10,
   "id": "d42e06af",
   "metadata": {},
   "outputs": [],
   "source": [
    "def count_questions_by_category_content(data):\n",
    "    counts = data.groupby(['category', 'content']).size().reset_index(name='question_count')\n",
    "    return pd.merge(data, counts, on=['category', 'content'])\n",
    "\n",
    "df = count_questions_by_category_content(df)"
   ]
  },
  {
   "cell_type": "code",
   "execution_count": 11,
   "id": "ab54e96c",
   "metadata": {},
   "outputs": [
    {
     "data": {
      "text/html": [
       "<div>\n",
       "<style scoped>\n",
       "    .dataframe tbody tr th:only-of-type {\n",
       "        vertical-align: middle;\n",
       "    }\n",
       "\n",
       "    .dataframe tbody tr th {\n",
       "        vertical-align: top;\n",
       "    }\n",
       "\n",
       "    .dataframe thead th {\n",
       "        text-align: right;\n",
       "    }\n",
       "</style>\n",
       "<table border=\"1\" class=\"dataframe\">\n",
       "  <thead>\n",
       "    <tr style=\"text-align: right;\">\n",
       "      <th></th>\n",
       "      <th>question</th>\n",
       "      <th>content</th>\n",
       "      <th>category</th>\n",
       "      <th>question_count_x</th>\n",
       "      <th>question_count_y</th>\n",
       "    </tr>\n",
       "  </thead>\n",
       "  <tbody>\n",
       "    <tr>\n",
       "      <th>0</th>\n",
       "      <td>я сменил автомобить, на учет еще не поставил, ...</td>\n",
       "      <td>для внесения данных по личному автомобилю обра...</td>\n",
       "      <td>автомобиль</td>\n",
       "      <td>8</td>\n",
       "      <td>8</td>\n",
       "    </tr>\n",
       "    <tr>\n",
       "      <th>1</th>\n",
       "      <td>не отображается автомобиль в личном кабинете.</td>\n",
       "      <td>для внесения данных по личному автомобилю обра...</td>\n",
       "      <td>автомобиль</td>\n",
       "      <td>8</td>\n",
       "      <td>8</td>\n",
       "    </tr>\n",
       "    <tr>\n",
       "      <th>2</th>\n",
       "      <td>добавить автомобиль</td>\n",
       "      <td>для внесения данных по личному автомобилю обра...</td>\n",
       "      <td>автомобиль</td>\n",
       "      <td>8</td>\n",
       "      <td>8</td>\n",
       "    </tr>\n",
       "    <tr>\n",
       "      <th>3</th>\n",
       "      <td>хочу внести данные об автомобиле</td>\n",
       "      <td>для внесения данных по личному автомобилю обра...</td>\n",
       "      <td>автомобиль</td>\n",
       "      <td>8</td>\n",
       "      <td>8</td>\n",
       "    </tr>\n",
       "    <tr>\n",
       "      <th>4</th>\n",
       "      <td>как внести данные об автомобиле?</td>\n",
       "      <td>для внесения данных по личному автомобилю обра...</td>\n",
       "      <td>автомобиль</td>\n",
       "      <td>8</td>\n",
       "      <td>8</td>\n",
       "    </tr>\n",
       "    <tr>\n",
       "      <th>...</th>\n",
       "      <td>...</td>\n",
       "      <td>...</td>\n",
       "      <td>...</td>\n",
       "      <td>...</td>\n",
       "      <td>...</td>\n",
       "    </tr>\n",
       "    <tr>\n",
       "      <th>1635</th>\n",
       "      <td>вернуть трек обучения</td>\n",
       "      <td>создайте, пожалуйста,  обращение в ит поддержк...</td>\n",
       "      <td>поддержка</td>\n",
       "      <td>273</td>\n",
       "      <td>4</td>\n",
       "    </tr>\n",
       "    <tr>\n",
       "      <th>1636</th>\n",
       "      <td>при входе на портал обучения выходит ошибка 505</td>\n",
       "      <td>данная ошибка возможна при переходе на портал\\...</td>\n",
       "      <td>обучение</td>\n",
       "      <td>6</td>\n",
       "      <td>6</td>\n",
       "    </tr>\n",
       "    <tr>\n",
       "      <th>1637</th>\n",
       "      <td>привязать другой номер к карте лояльности</td>\n",
       "      <td>для изменения привязанного номера к карте лоял...</td>\n",
       "      <td>лк</td>\n",
       "      <td>453</td>\n",
       "      <td>1</td>\n",
       "    </tr>\n",
       "    <tr>\n",
       "      <th>1638</th>\n",
       "      <td>не открывается итоговый тест на директора мага...</td>\n",
       "      <td>создайте, пожалуйста,  обращение в ит поддержк...</td>\n",
       "      <td>поддержка</td>\n",
       "      <td>273</td>\n",
       "      <td>4</td>\n",
       "    </tr>\n",
       "    <tr>\n",
       "      <th>1639</th>\n",
       "      <td>номер поддержки подскажите пожалуйста</td>\n",
       "      <td>для оформления обращения в техническую поддерж...</td>\n",
       "      <td>поддержка</td>\n",
       "      <td>273</td>\n",
       "      <td>1</td>\n",
       "    </tr>\n",
       "  </tbody>\n",
       "</table>\n",
       "<p>1640 rows × 5 columns</p>\n",
       "</div>"
      ],
      "text/plain": [
       "                                               question  \\\n",
       "0     я сменил автомобить, на учет еще не поставил, ...   \n",
       "1         не отображается автомобиль в личном кабинете.   \n",
       "2                                   добавить автомобиль   \n",
       "3                      хочу внести данные об автомобиле   \n",
       "4                      как внести данные об автомобиле?   \n",
       "...                                                 ...   \n",
       "1635                              вернуть трек обучения   \n",
       "1636    при входе на портал обучения выходит ошибка 505   \n",
       "1637          привязать другой номер к карте лояльности   \n",
       "1638  не открывается итоговый тест на директора мага...   \n",
       "1639              номер поддержки подскажите пожалуйста   \n",
       "\n",
       "                                                content    category  \\\n",
       "0     для внесения данных по личному автомобилю обра...  автомобиль   \n",
       "1     для внесения данных по личному автомобилю обра...  автомобиль   \n",
       "2     для внесения данных по личному автомобилю обра...  автомобиль   \n",
       "3     для внесения данных по личному автомобилю обра...  автомобиль   \n",
       "4     для внесения данных по личному автомобилю обра...  автомобиль   \n",
       "...                                                 ...         ...   \n",
       "1635  создайте, пожалуйста,  обращение в ит поддержк...   поддержка   \n",
       "1636  данная ошибка возможна при переходе на портал\\...    обучение   \n",
       "1637  для изменения привязанного номера к карте лоял...          лк   \n",
       "1638  создайте, пожалуйста,  обращение в ит поддержк...   поддержка   \n",
       "1639  для оформления обращения в техническую поддерж...   поддержка   \n",
       "\n",
       "      question_count_x  question_count_y  \n",
       "0                    8                 8  \n",
       "1                    8                 8  \n",
       "2                    8                 8  \n",
       "3                    8                 8  \n",
       "4                    8                 8  \n",
       "...                ...               ...  \n",
       "1635               273                 4  \n",
       "1636                 6                 6  \n",
       "1637               453                 1  \n",
       "1638               273                 4  \n",
       "1639               273                 1  \n",
       "\n",
       "[1640 rows x 5 columns]"
      ]
     },
     "execution_count": 11,
     "metadata": {},
     "output_type": "execute_result"
    }
   ],
   "source": [
    "df"
   ]
  },
  {
   "cell_type": "code",
   "execution_count": 12,
   "id": "9556add9",
   "metadata": {},
   "outputs": [
    {
     "data": {
      "text/plain": [
       "['sed',\n",
       " 'сб',\n",
       " 'выручай-карта',\n",
       " 'мчд',\n",
       " 'перевод',\n",
       " 'дмс',\n",
       " 'командировка',\n",
       " 'оператор']"
      ]
     },
     "execution_count": 12,
     "metadata": {},
     "output_type": "execute_result"
    }
   ],
   "source": [
    "# категории до 5 значений\n",
    "categories_to_augment_malo = counts[counts['question_count'] <= 5]['category'].to_list()\n",
    "categories_to_augment_malo"
   ]
  },
  {
   "cell_type": "code",
   "execution_count": 13,
   "id": "ea0aa831",
   "metadata": {},
   "outputs": [
    {
     "data": {
      "text/plain": [
       "['обучение',\n",
       " 'доверенность',\n",
       " 'автомобиль',\n",
       " 'материальная помощь',\n",
       " 'справка',\n",
       " 'уход за больным',\n",
       " 'налоговый вычет',\n",
       " 'больничный',\n",
       " 'документооборот',\n",
       " 'график работы',\n",
       " 'эцп',\n",
       " 'зарплата',\n",
       " 'заявки',\n",
       " 'отгул',\n",
       " 'прием на работу',\n",
       " 'бир',\n",
       " 'моя карьера',\n",
       " 'увольнение',\n",
       " 'удаленная работа',\n",
       " 'отпуск',\n",
       " 'табель',\n",
       " 'поддержка',\n",
       " 'лк']"
      ]
     },
     "execution_count": 13,
     "metadata": {},
     "output_type": "execute_result"
    }
   ],
   "source": [
    "# категории более 5 значений\n",
    "categories_to_augment_mnogo = counts[counts['question_count'] >5]['category'].to_list()\n",
    "categories_to_augment_mnogo"
   ]
  },
  {
   "cell_type": "markdown",
   "id": "e0f76146",
   "metadata": {},
   "source": [
    "# Перефразирование"
   ]
  },
  {
   "cell_type": "code",
   "execution_count": 14,
   "id": "71be635b",
   "metadata": {},
   "outputs": [],
   "source": [
    "def rephrase_question(question, model):\n",
    "    response = model.Completion.create(\n",
    "        engine=\"text-davinci-003\",  # https://medium.com/technology-hits/new-gpt-3-model-text-davinci-003-is-awesome-ada11ef660a9\n",
    "        prompt=f\"Перефразируй следующий вопрос, сохраняя смысл: '{question}'. Представь, что ты обычный человек из России и задаешь вопросы чате корпоративной поддержки.\",\n",
    "        max_tokens=50\n",
    "    )\n",
    "    return response.choices[0].text.strip()"
   ]
  },
  {
   "cell_type": "markdown",
   "id": "eea9216d",
   "metadata": {},
   "source": [
    "# Аугментация датасета"
   ]
  },
  {
   "cell_type": "code",
   "execution_count": null,
   "id": "7fb15201",
   "metadata": {},
   "outputs": [],
   "source": [
    "def augment_by_category_content(data, model):\n",
    "    augmented_data = data.copy()\n",
    "    \n",
    "    # Уникальные сочетания category и content\n",
    "    unique_combinations = data.groupby(['category', 'content'])\n",
    "\n",
    "    for (category, content), group in unique_combinations:\n",
    "        question_count = len(group)\n",
    "        \n",
    "        # Если вопросов <= 3, добавляем 10 перефразированных вариантов\n",
    "        if question_count <= 3:\n",
    "            for question in group['question']:\n",
    "                for _ in range(10):\n",
    "                    new_question = rephrase_question(question, model)\n",
    "                    augmented_data = augmented_data.append({\n",
    "                        'question': new_question,\n",
    "                        'content': content,\n",
    "                        'category': category,\n",
    "                        'question_count': question_count\n",
    "                    }, ignore_index=True)\n",
    "        \n",
    "        # Если вопросов > 5, добавляем 3 перефразированных варианта\n",
    "        elif question_count > 5:\n",
    "            for question in group['question']:\n",
    "                for _ in range(3):\n",
    "                    new_question = rephrase_question(question, model)\n",
    "                    augmented_data = augmented_data.append({\n",
    "                        'question': new_question,\n",
    "                        'content': content,\n",
    "                        'category': category,\n",
    "                        'question_count': question_count\n",
    "                    }, ignore_index=True)\n",
    "        \n",
    "    return augmented_data"
   ]
  },
  {
   "cell_type": "markdown",
   "id": "260f4a65",
   "metadata": {},
   "source": [
    "# Модель"
   ]
  },
  {
   "cell_type": "code",
   "execution_count": null,
   "id": "d710e517",
   "metadata": {},
   "outputs": [],
   "source": [
    "model = OpenAI(api_key='АПИ АПИ АПИ') "
   ]
  },
  {
   "cell_type": "code",
   "execution_count": null,
   "id": "9b5752bd",
   "metadata": {},
   "outputs": [],
   "source": [
    "data_with_counts = count_questions_by_category_content(df)"
   ]
  },
  {
   "cell_type": "code",
   "execution_count": null,
   "id": "b0ecd63d",
   "metadata": {},
   "outputs": [],
   "source": [
    "data_with_counts"
   ]
  },
  {
   "cell_type": "code",
   "execution_count": null,
   "id": "a0608c6e",
   "metadata": {},
   "outputs": [],
   "source": [
    "final_data = augment_categories(df, model)"
   ]
  },
  {
   "cell_type": "markdown",
   "id": "d8c13d90",
   "metadata": {},
   "source": [
    "# Результат"
   ]
  },
  {
   "cell_type": "code",
   "execution_count": null,
   "id": "28051b7a",
   "metadata": {},
   "outputs": [],
   "source": [
    "save_to_excel(final_data, file_path, sheet_name)"
   ]
  }
 ],
 "metadata": {
  "kernelspec": {
   "display_name": "Python 3 (ipykernel)",
   "language": "python",
   "name": "python3"
  },
  "language_info": {
   "codemirror_mode": {
    "name": "ipython",
    "version": 3
   },
   "file_extension": ".py",
   "mimetype": "text/x-python",
   "name": "python",
   "nbconvert_exporter": "python",
   "pygments_lexer": "ipython3",
   "version": "3.10.13"
  },
  "toc": {
   "base_numbering": 1,
   "nav_menu": {},
   "number_sections": true,
   "sideBar": true,
   "skip_h1_title": false,
   "title_cell": "Table of Contents",
   "title_sidebar": "Contents",
   "toc_cell": false,
   "toc_position": {},
   "toc_section_display": true,
   "toc_window_display": false
  }
 },
 "nbformat": 4,
 "nbformat_minor": 5
}
